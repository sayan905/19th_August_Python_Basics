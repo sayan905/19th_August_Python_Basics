{
 "cells": [
  {
   "cell_type": "markdown",
   "id": "3eac2a43-fc45-4b02-b603-7f34a097740a",
   "metadata": {},
   "source": [
    "1. Declare two variables, `x` and `y`, and assign them integer values. Swap the\n",
    "values of these variables without using any temporary variable."
   ]
  },
  {
   "cell_type": "code",
   "execution_count": 2,
   "id": "c464fad3-80f1-4297-b589-5a0ddeae59c3",
   "metadata": {},
   "outputs": [
    {
     "name": "stdout",
     "output_type": "stream",
     "text": [
      "swapped value of p = 1\n",
      "swapped value of q = 7\n"
     ]
    }
   ],
   "source": [
    "p = 7\n",
    "q = 1\n",
    "#this swaps the values without using a temp variable\n",
    "p, q = q, p \n",
    "print(\"swapped value of p =\", p)\n",
    "print(\"swapped value of q =\", q)"
   ]
  },
  {
   "cell_type": "markdown",
   "id": "93c6cb41-e5b8-4665-8d55-4258de3f196c",
   "metadata": {},
   "source": [
    "2. Create a program that calculates the area of a rectangle. Take the length and\n",
    "width as inputs from the user and store them in variables. Calculate and\n",
    "display the area."
   ]
  },
  {
   "cell_type": "code",
   "execution_count": 5,
   "id": "82573065-8acc-46a1-a693-e005e860f47f",
   "metadata": {},
   "outputs": [
    {
     "name": "stdin",
     "output_type": "stream",
     "text": [
      "enter the length of the rectangle:  3\n",
      "enter the height of the rectangle:  2\n"
     ]
    },
    {
     "name": "stdout",
     "output_type": "stream",
     "text": [
      "area of the rectangle is =  6.0\n"
     ]
    }
   ],
   "source": [
    "#float is used so that user can enter any values with or without decimals\n",
    "length=float(input(\"enter the length of the rectangle: \"))\n",
    "height=float(input(\"enter the height of the rectangle: \"))\n",
    "#area of rectangle is length multiply height\n",
    "area = length*height\n",
    "print(\"area of the rectangle is = \", area)"
   ]
  },
  {
   "cell_type": "markdown",
   "id": "30635565-a6bd-466c-a7a3-091fc135f6ff",
   "metadata": {},
   "source": [
    "3. Write a Python program that converts temperatures from Celsius to\n",
    "Fahrenheit. Take the temperature in Celsius as input, store it in a variable,\n",
    "convert it to Fahrenheit, and display the result."
   ]
  },
  {
   "cell_type": "code",
   "execution_count": 21,
   "id": "88953a59-f6da-44dc-bf4a-76d1e0fd4052",
   "metadata": {},
   "outputs": [
    {
     "name": "stdin",
     "output_type": "stream",
     "text": [
      "enter the temp in celsius 23\n"
     ]
    },
    {
     "name": "stdout",
     "output_type": "stream",
     "text": [
      "farenheit temp is =  73.4\n"
     ]
    }
   ],
   "source": [
    "c=float(input(\"enter the temp in celsius\"))\n",
    "#the formula of celcius to farenheit is (c*9/5) - 32 and farenhit to celcius is (f-32) * 5/9\n",
    "f=(c*9/5)+32\n",
    "print(\"farenheit temp is = \", f)"
   ]
  },
  {
   "cell_type": "markdown",
   "id": "69104dd3-9f3a-4c9a-88e6-9ff77479606b",
   "metadata": {},
   "source": [
    "1.Write a Python program that takes a string as input and prints the length of\n",
    "the string."
   ]
  },
  {
   "cell_type": "code",
   "execution_count": 22,
   "id": "022d3b22-c939-40d9-bc31-091b19bfbbc3",
   "metadata": {},
   "outputs": [
    {
     "name": "stdin",
     "output_type": "stream",
     "text": [
      "enter your string:  sayansaha\n"
     ]
    },
    {
     "name": "stdout",
     "output_type": "stream",
     "text": [
      "the length of string is =  9\n"
     ]
    }
   ],
   "source": [
    "a = input(\"enter your string: \")\n",
    "#The len() function returns the length of string, it is a built in function\n",
    "print(\"the length of string is = \", len(a))"
   ]
  },
  {
   "cell_type": "markdown",
   "id": "3523a841-24a8-491f-bca9-7a863849bc19",
   "metadata": {},
   "source": [
    "3. Given a string, reverse the order of characters using string slicing and print\n",
    "the reversed string."
   ]
  },
  {
   "cell_type": "code",
   "execution_count": 25,
   "id": "6b1996d3-eca8-4fb1-8007-087d46e81238",
   "metadata": {},
   "outputs": [
    {
     "name": "stdin",
     "output_type": "stream",
     "text": [
      "Please Enter Your Sentence :  sayan\n"
     ]
    },
    {
     "name": "stdout",
     "output_type": "stream",
     "text": [
      "the reversed string output is =  nayas\n"
     ]
    }
   ],
   "source": [
    "#it taakes a string as input from the user\n",
    "str =  input(\"Please Enter Your Sentence : \")\n",
    "#it prints the string from -1 index to last index in reverse\n",
    "print(\"the reversed string output is = \", str[::-1])"
   ]
  },
  {
   "cell_type": "markdown",
   "id": "f9e503d8-5f4a-46c9-b100-c86b48a18aa4",
   "metadata": {},
   "source": [
    "2.Create a program that takes a sentence from the user and counts the number\n",
    "of vowels (a, e, i, o, u) in the string."
   ]
  },
  {
   "cell_type": "code",
   "execution_count": 8,
   "id": "9574a0b7-25a3-47fb-b82f-aad2bc7ff4ec",
   "metadata": {},
   "outputs": [
    {
     "name": "stdin",
     "output_type": "stream",
     "text": [
      "Please Enter Your Sentence :  sAyaN\n"
     ]
    },
    {
     "name": "stdout",
     "output_type": "stream",
     "text": [
      "the number of vowels is:  2\n"
     ]
    }
   ],
   "source": [
    "str = input(\"Please Enter Your Sentence : \")\n",
    "#count is a variable to store the number of vowels\n",
    "count = 0\n",
    "#vowels holds the vowels in uppercase and lowercase\n",
    "vowels=[\"a\", \"A\", \"e\", \"E\", \"i\", \"I\", \"o\", \"O\", \"u\", \"U\"]\n",
    "for character in str:\n",
    "    #if vowel is found in the string it will increase the count by +1\n",
    "    if character in vowels:\n",
    "        count=count+1\n",
    "print(\"the number of vowels is: \", count)\n"
   ]
  },
  {
   "cell_type": "markdown",
   "id": "0cf23cba-818a-4ed4-92b5-762069ddb69c",
   "metadata": {},
   "source": [
    "4. Write a program that takes a string as input and checks if it is a palindrome\n",
    "(reads the same forwards and backwards)."
   ]
  },
  {
   "cell_type": "code",
   "execution_count": 16,
   "id": "1853a7dd-6fdd-4422-ab42-9d92c6547f87",
   "metadata": {},
   "outputs": [
    {
     "name": "stdin",
     "output_type": "stream",
     "text": [
      "Please enter the string :  1111\n"
     ]
    },
    {
     "name": "stdout",
     "output_type": "stream",
     "text": [
      "the reversed string is :  1111\n",
      "the string is palindrone\n"
     ]
    }
   ],
   "source": [
    "str = input(\"Please enter the string : \")\n",
    "#str_rev holdes the reversed string value\n",
    "str_rev = str[::-1]\n",
    "print(\"the reversed string is : \", str_rev)\n",
    "#a simple loop to check weather str value is same as str_rev or not\n",
    "if str == str_rev:\n",
    "  print(\"the string is palindrone\")\n",
    "else:\n",
    "  print(\"the string is not palindrone\")"
   ]
  },
  {
   "cell_type": "markdown",
   "id": "76a294c4-8ed0-4abf-90a0-f3676da88a24",
   "metadata": {},
   "source": [
    "5.Create a program that takes a string as input and removes all the spaces from\n",
    "it. Print the modified string without spaces."
   ]
  },
  {
   "cell_type": "code",
   "execution_count": 20,
   "id": "4e78d0f7-860e-49ba-9549-8fd51f7da902",
   "metadata": {},
   "outputs": [
    {
     "name": "stdin",
     "output_type": "stream",
     "text": [
      "Please enter the string :  s  a     y  an\n"
     ]
    },
    {
     "name": "stdout",
     "output_type": "stream",
     "text": [
      "the modifed string is :  sayan\n"
     ]
    }
   ],
   "source": [
    "str = input(\"Please enter the string : \")\n",
    "#replace function removes the white spaces from the string and then we store it in a new variable\n",
    "trim_str = str.replace(' ', '')\n",
    "print(\"the modifed string is : \", trim_str)"
   ]
  },
  {
   "cell_type": "code",
   "execution_count": null,
   "id": "3697a0e0-8497-40b3-92d4-abc339d9ff0f",
   "metadata": {},
   "outputs": [],
   "source": []
  },
  {
   "cell_type": "code",
   "execution_count": null,
   "id": "03e805a7-ece6-4baf-b9f0-c2cb66907b64",
   "metadata": {},
   "outputs": [],
   "source": []
  }
 ],
 "metadata": {
  "kernelspec": {
   "display_name": "Python 3 (ipykernel)",
   "language": "python",
   "name": "python3"
  },
  "language_info": {
   "codemirror_mode": {
    "name": "ipython",
    "version": 3
   },
   "file_extension": ".py",
   "mimetype": "text/x-python",
   "name": "python",
   "nbconvert_exporter": "python",
   "pygments_lexer": "ipython3",
   "version": "3.10.8"
  }
 },
 "nbformat": 4,
 "nbformat_minor": 5
}
